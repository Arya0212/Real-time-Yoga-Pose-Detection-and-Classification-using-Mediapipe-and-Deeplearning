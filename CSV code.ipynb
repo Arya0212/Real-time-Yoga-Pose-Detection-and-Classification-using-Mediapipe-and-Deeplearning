{
 "cells": [
  {
   "cell_type": "markdown",
   "metadata": {},
   "source": [
    "INSTALL AND IMPORT THE REQUIRED LIBRARIES"
   ]
  },
  {
   "cell_type": "code",
   "execution_count": null,
   "metadata": {},
   "outputs": [],
   "source": [
    "pip install opencv-python mediapipe pandas"
   ]
  },
  {
   "cell_type": "code",
   "execution_count": 2,
   "metadata": {},
   "outputs": [],
   "source": [
    "import os\n",
    "import cv2\n",
    "import matplotlib.pyplot as plt\n",
    "import mediapipe as mp\n",
    "import csv\n",
    "import numpy as np\n",
    "from numpy import array\n",
    "import pandas as pd"
   ]
  },
  {
   "cell_type": "markdown",
   "metadata": {},
   "source": [
    "Taking videos from Folders, Applying MediaPipe, and Creating a CSV File"
   ]
  },
  {
   "cell_type": "code",
   "execution_count": 5,
   "metadata": {},
   "outputs": [
    {
     "name": "stdout",
     "output_type": "stream",
     "text": [
      "[\"C:\\\\aryaaa\\\\arya's model(2)\\\\yoga  pose videos(25fps)\\\\Mountain_Pose\\\\mountain_normal\"]\n"
     ]
    }
   ],
   "source": [
    "pose_folders = [\"C:\\\\aryaaa\\\\arya's model(2)\\\\yoga  pose videos(25fps)\\\\Mountain_Pose\\\\mountain_normal\"]\n",
    "columnArray = []\n",
    "headers = ['pose_folder', '0_x', '0_y', '0_z', '0_vis', '1_x', '1_y', '1_z', '1_vis', '2_x', '2_y', '2_z', '2_vis', '3_x', '3_y', '3_z', '3_vis', '4_x', '4_y', '4_z', '4_vis', '5_x', '5_y', '5_z', '5_vis', '6_x', '6_y', '6_z', '6_vis', '7_x', '7_y', '7_z', '7_vis', '8_x', '8_y', '8_z', '8_vis', '9_x', '9_y', '9_z', '9_vis', '10_x', '10_y', '10_z', '10_vis', '11_x', '11_y', '11_z', '11_vis', '12_x', '12_y', '12_z', '12_vis', '13_x', '13_y', '13_z', '13_vis', '14_x', '14_y', '14_z', '14_vis', '15_x', '15_y', '15_z', '15_vis', '16_x', '16_y', '16_z', '16_vis', '17_x', '17_y', '17_z', '17_vis', '18_x', '18_y', '18_z', '18_vis', '19_x', '19_y', '19_z', '19_vis', '20_x', '20_y', '20_z', '20_vis', '21_x', '21_y', '21_z', '21_vis', '22_x', '22_y', '22_z', '22_vis', '23_x', '23_y', '23_z', '23_vis', '24_x', '24_y', '24_z', '24_vis', '25_x', '25_y', '25_z', '25_vis', '26_x', '26_y', '26_z', '26_vis', '27_x', '27_y', '27_z', '27_vis', '28_x', '28_y', '28_z', '28_vis', '29_x', '29_y', '29_z', '29_vis', '30_x', '30_y', '30_z', '30_vis', '31_x', '31_y', '31_z', '31_vis', '32_x', '32_y', '32_z', '32_vis']\n",
    "headersLength = len(headers)\n",
    "for i in range(0, headersLength):\n",
    "    columnArray.append(i)\n",
    "landMarksDf = pd.DataFrame(columns=columnArray)\n",
    "print(pose_folders)\n",
    "mpPose = mp.solutions.pose\n",
    "mpDrawing = mp.solutions.drawing_utils\n",
    "\n",
    "for pose_folder in pose_folders:\n",
    "    video_files = [f for f in os.listdir(pose_folder) if f.lower().endswith(('.mp4'))]\n",
    "\n",
    "    for video_file in video_files:\n",
    "        video_path = os.path.join(pose_folder, video_file)\n",
    "\n",
    "        with mpPose.Pose(min_detection_confidence=0.7, min_tracking_confidence=0.7) as pose:\n",
    "            cap = cv2.VideoCapture(video_path)\n",
    "\n",
    "            while cap.isOpened():\n",
    "                ret, image = cap.read()\n",
    "                if not ret:\n",
    "                    break\n",
    "\n",
    "                image_rgb = cv2.cvtColor(image, cv2.COLOR_BGR2RGB)\n",
    "                results = pose.process(image_rgb)\n",
    "\n",
    "                if results.pose_landmarks:\n",
    "                    landmarksArray = []\n",
    "                    capturedLandmarks = results.pose_world_landmarks.landmark\n",
    "\n",
    "                    for landmark in capturedLandmarks:\n",
    "                        landmarksArray.extend([landmark.x, landmark.y, landmark.z, landmark.visibility])\n",
    "\n",
    "                    landmarksArray.insert(0, os.path.basename(pose_folder))  # Insert pose folder name\n",
    "\n",
    "                    landMarksDf = pd.concat([landMarksDf, pd.DataFrame([landmarksArray])], ignore_index=True)\n",
    "\n",
    "            cap.release()\n",
    "\n",
    "landMarksDf = landMarksDf.set_axis(headers, axis=1)\n",
    "landMarksDf.to_csv(\"C:/aryaaa/arya's model(2)/yoga poses csv/mountain_normal.csv\", index=False)\n"
   ]
  }
 ],
 "metadata": {
  "kernelspec": {
   "display_name": "Python 3",
   "language": "python",
   "name": "python3"
  },
  "language_info": {
   "codemirror_mode": {
    "name": "ipython",
    "version": 3
   },
   "file_extension": ".py",
   "mimetype": "text/x-python",
   "name": "python",
   "nbconvert_exporter": "python",
   "pygments_lexer": "ipython3",
   "version": "3.11.3"
  },
  "orig_nbformat": 4
 },
 "nbformat": 4,
 "nbformat_minor": 2
}
